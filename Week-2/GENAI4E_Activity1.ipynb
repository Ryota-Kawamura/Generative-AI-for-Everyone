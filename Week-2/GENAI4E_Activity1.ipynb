{
 "cells": [
  {
   "cell_type": "markdown",
   "id": "348b4130-475b-473b-9aa0-b5390ec8561d",
   "metadata": {},
   "source": [
    "## Prompting an LLM in code"
   ]
  },
  {
   "cell_type": "markdown",
   "id": "33449491-24d6-423f-9696-b7d2861b7703",
   "metadata": {},
   "source": [
    "Instructions: \n",
    "1. For each of the two code cells below, click on the cell then hit Shift+Enter on your keyboard to run the code (or if on a mobile device, press 'play' button). \n",
    "2. Optionally edit the prompt, and try again! "
   ]
  },
  {
   "cell_type": "markdown",
   "id": "2988859a-1ccf-485b-a9ab-dea0b9a0cb96",
   "metadata": {},
   "source": [
    "**Code cell 1:** Set up programming environment to use code to send prompts to OpenAI's cloud-hosted service. "
   ]
  },
  {
   "cell_type": "code",
   "execution_count": 1,
   "id": "e021aa3f-8a6a-4acb-a589-015fa3682043",
   "metadata": {
    "height": 217
   },
   "outputs": [],
   "source": [
    "import openai\n",
    "import os\n",
    "\n",
    "openai.api_key = os.getenv(\"OPENAI_API_KEY\")\n",
    "\n",
    "def llm_response(prompt):\n",
    "    response = openai.ChatCompletion.create(\n",
    "        model='gpt-3.5-turbo',\n",
    "        messages=[{'role':'user','content':prompt}],\n",
    "        temperature=0\n",
    "    )\n",
    "    return response.choices[0].message['content']"
   ]
  },
  {
   "cell_type": "markdown",
   "id": "3ca2a97d-aab0-49b2-a7e2-bff596e9483c",
   "metadata": {},
   "source": [
    "**Code cell 2:** Define a prompt that will classify the sentiment of a restaurant review. "
   ]
  },
  {
   "cell_type": "code",
   "execution_count": 2,
   "id": "4bac4c00-7320-4a5f-a964-f7b4d13d49f9",
   "metadata": {
    "height": 183,
    "tags": []
   },
   "outputs": [
    {
     "name": "stdout",
     "output_type": "stream",
     "text": [
      "Positive sentiment\n"
     ]
    }
   ],
   "source": [
    "prompt = '''\n",
    "    Classify the following review \n",
    "    as having either a positive or\n",
    "    negative sentiment:\n",
    "\n",
    "    The banana pudding was really tasty!\n",
    "'''\n",
    "\n",
    "response = llm_response(prompt)\n",
    "print(response)"
   ]
  },
  {
   "cell_type": "code",
   "execution_count": null,
   "id": "0f051a69",
   "metadata": {},
   "outputs": [],
   "source": []
  }
 ],
 "metadata": {
  "kernelspec": {
   "display_name": "Python 3 (ipykernel)",
   "language": "python",
   "name": "python3"
  },
  "language_info": {
   "codemirror_mode": {
    "name": "ipython",
    "version": 3
   },
   "file_extension": ".py",
   "mimetype": "text/x-python",
   "name": "python",
   "nbconvert_exporter": "python",
   "pygments_lexer": "ipython3",
   "version": "3.11.3"
  }
 },
 "nbformat": 4,
 "nbformat_minor": 5
}
